{
  "cells": [
    {
      "cell_type": "code",
      "execution_count": 5,
      "metadata": {
        "colab": {
          "base_uri": "https://localhost:8080/",
          "height": 206
        },
        "id": "adDWlqXeiMU7",
        "outputId": "296b87f9-76e7-4e3b-fd67-a1d637d3a321"
      },
      "outputs": [
        {
          "data": {
            "text/html": [
              "<div>\n",
              "<style scoped>\n",
              "    .dataframe tbody tr th:only-of-type {\n",
              "        vertical-align: middle;\n",
              "    }\n",
              "\n",
              "    .dataframe tbody tr th {\n",
              "        vertical-align: top;\n",
              "    }\n",
              "\n",
              "    .dataframe thead th {\n",
              "        text-align: right;\n",
              "    }\n",
              "</style>\n",
              "<table border=\"1\" class=\"dataframe\">\n",
              "  <thead>\n",
              "    <tr style=\"text-align: right;\">\n",
              "      <th></th>\n",
              "      <th>date</th>\n",
              "      <th>temperature</th>\n",
              "      <th>humidity</th>\n",
              "      <th>wind_speed</th>\n",
              "      <th>meanpressure</th>\n",
              "    </tr>\n",
              "  </thead>\n",
              "  <tbody>\n",
              "    <tr>\n",
              "      <th>0</th>\n",
              "      <td>01-01-2017</td>\n",
              "      <td>15.913043</td>\n",
              "      <td>85.869565</td>\n",
              "      <td>2.743478</td>\n",
              "      <td>59.000000</td>\n",
              "    </tr>\n",
              "    <tr>\n",
              "      <th>1</th>\n",
              "      <td>02-01-2017</td>\n",
              "      <td>18.500000</td>\n",
              "      <td>77.222222</td>\n",
              "      <td>2.894444</td>\n",
              "      <td>1018.277778</td>\n",
              "    </tr>\n",
              "    <tr>\n",
              "      <th>2</th>\n",
              "      <td>03-01-2017</td>\n",
              "      <td>17.111111</td>\n",
              "      <td>81.888889</td>\n",
              "      <td>4.016667</td>\n",
              "      <td>1018.333333</td>\n",
              "    </tr>\n",
              "    <tr>\n",
              "      <th>3</th>\n",
              "      <td>04-01-2017</td>\n",
              "      <td>18.700000</td>\n",
              "      <td>70.050000</td>\n",
              "      <td>4.545000</td>\n",
              "      <td>1015.700000</td>\n",
              "    </tr>\n",
              "    <tr>\n",
              "      <th>4</th>\n",
              "      <td>05-01-2017</td>\n",
              "      <td>18.388889</td>\n",
              "      <td>74.944444</td>\n",
              "      <td>3.300000</td>\n",
              "      <td>1014.333333</td>\n",
              "    </tr>\n",
              "  </tbody>\n",
              "</table>\n",
              "</div>"
            ],
            "text/plain": [
              "         date  temperature   humidity  wind_speed  meanpressure\n",
              "0  01-01-2017    15.913043  85.869565    2.743478     59.000000\n",
              "1  02-01-2017    18.500000  77.222222    2.894444   1018.277778\n",
              "2  03-01-2017    17.111111  81.888889    4.016667   1018.333333\n",
              "3  04-01-2017    18.700000  70.050000    4.545000   1015.700000\n",
              "4  05-01-2017    18.388889  74.944444    3.300000   1014.333333"
            ]
          },
          "execution_count": 5,
          "metadata": {},
          "output_type": "execute_result"
        }
      ],
      "source": [
        "#Loading the csv file\n",
        "import pandas as pd\n",
        "df=pd.read_csv('Data/Daily weather data.csv')\n",
        "df.head()"
      ]
    },
    {
      "cell_type": "code",
      "execution_count": 6,
      "metadata": {
        "colab": {
          "base_uri": "https://localhost:8080/"
        },
        "id": "C67BZ_A7ivT6",
        "outputId": "a6fe767a-fea7-485e-a570-4a76d2b1c3a0"
      },
      "outputs": [
        {
          "name": "stdout",
          "output_type": "stream",
          "text": [
            "date            0\n",
            "temperature     0\n",
            "humidity        0\n",
            "wind_speed      0\n",
            "meanpressure    0\n",
            "dtype: int64\n"
          ]
        }
      ],
      "source": [
        "#Check for missing values\n",
        "print(df.isnull().sum())"
      ]
    },
    {
      "cell_type": "code",
      "execution_count": 7,
      "metadata": {
        "colab": {
          "base_uri": "https://localhost:8080/"
        },
        "id": "XDUOLqA4jlAq",
        "outputId": "549530c3-7cf2-4fc8-ba13-748f6a49f140"
      },
      "outputs": [
        {
          "name": "stdout",
          "output_type": "stream",
          "text": [
            "Index(['date', 'temperature', 'humidity', 'wind_speed', 'meanpressure'], dtype='object')\n",
            "   temperature   humidity  wind_speed  meanpressure   weather\n",
            "0    15.913043  85.869565    2.743478     59.000000     Rainy\n",
            "1    18.500000  77.222222    2.894444   1018.277778  Moderate\n",
            "2    17.111111  81.888889    4.016667   1018.333333     Rainy\n",
            "3    18.700000  70.050000    4.545000   1015.700000  Moderate\n",
            "4    18.388889  74.944444    3.300000   1014.333333  Moderate\n"
          ]
        }
      ],
      "source": [
        "import pandas as pd\n",
        "\n",
        "# Load your dataset\n",
        "df = pd.read_csv(\"Data/Daily weather data.csv\")\n",
        "\n",
        "# Check column names\n",
        "print(df.columns)\n",
        "\n",
        "# Assume temperature and humidity columns are named 'temperature' and 'humidity'\n",
        "# You may need to change these names based on your actual dataset\n",
        "\n",
        "def get_weather(temp, humidity):\n",
        "    if temp > 30 and humidity < 50:\n",
        "        return 'Sunny'\n",
        "    elif 20 <= temp <= 30 and 50 <= humidity <= 80:\n",
        "        return 'Cloudy'\n",
        "    elif temp < 25 and humidity > 80:\n",
        "        return 'Rainy'\n",
        "    elif temp < 10 and humidity > 70:\n",
        "        return 'Foggy'\n",
        "    elif temp > 30 and humidity > 70:\n",
        "        return 'Hot & Humid'\n",
        "    else:\n",
        "        return 'Moderate'\n",
        "\n",
        "# Apply the function\n",
        "df['weather'] = df.apply(lambda row: get_weather(row['temperature'], row['humidity']), axis=1)\n",
        "\n",
        "# Show the updated data\n",
        "print(df[['temperature', 'humidity', 'wind_speed', 'meanpressure' , 'weather']].head())"
      ]
    },
    {
      "cell_type": "code",
      "execution_count": 8,
      "metadata": {
        "id": "MkhATcyxllDI"
      },
      "outputs": [],
      "source": [
        "#Label encoding\n",
        "from sklearn.preprocessing import LabelEncoder\n",
        "\n",
        "le = LabelEncoder()\n",
        "df['weather'] = le.fit_transform(df['weather'])\n",
        "\n",
        "#sunny-2\n",
        "#rainy-1\n",
        "#cloudy-0"
      ]
    },
    {
      "cell_type": "code",
      "execution_count": 9,
      "metadata": {
        "id": "5KkOYyKUluXI"
      },
      "outputs": [],
      "source": [
        "# Features and Target\n",
        "X = df[['humidity', 'wind_speed', 'meanpressure']]  # input\n",
        "y = df['temperature']  # target\n",
        "\n",
        "# For weather condition prediction\n",
        "y2 = df['weather']  # classification target"
      ]
    },
    {
      "cell_type": "code",
      "execution_count": 10,
      "metadata": {
        "id": "egN2vpX1mBE-"
      },
      "outputs": [],
      "source": [
        "from sklearn.model_selection import train_test_split\n",
        "\n",
        "# For regression (temperature)\n",
        "X_train, X_test, y_train, y_test = train_test_split(X, y, test_size=0.2, random_state=42)\n",
        "\n",
        "# For classification (weather condition)\n",
        "X_train2, X_test2, y_train2, y_test2 = train_test_split(X, y2, test_size=0.2, random_state=42)"
      ]
    },
    {
      "cell_type": "code",
      "execution_count": 11,
      "metadata": {
        "id": "PZr9w87FmE9k"
      },
      "outputs": [],
      "source": [
        "from sklearn.ensemble import RandomForestRegressor\n",
        "\n",
        "reg_model = RandomForestRegressor()\n",
        "reg_model.fit(X_train, y_train)\n",
        "\n",
        "# Predict temperature\n",
        "y_pred = reg_model.predict(X_test)"
      ]
    },
    {
      "cell_type": "code",
      "execution_count": 12,
      "metadata": {
        "id": "kUzE6kdimKIC"
      },
      "outputs": [],
      "source": [
        "from sklearn.ensemble import RandomForestClassifier\n",
        "\n",
        "clf_model = RandomForestClassifier()\n",
        "clf_model.fit(X_train2, y_train2)\n",
        "\n",
        "# Predict weather condition\n",
        "y_pred2 = clf_model.predict(X_test2)"
      ]
    },
    {
      "cell_type": "code",
      "execution_count": 13,
      "metadata": {
        "colab": {
          "base_uri": "https://localhost:8080/"
        },
        "id": "wt5jPztUmM7M",
        "outputId": "92fb3dbb-ef31-44d8-a8b6-ac6837c19280"
      },
      "outputs": [
        {
          "name": "stdout",
          "output_type": "stream",
          "text": [
            "Regression Metrics:\n",
            "MAE: 2.2271571007695656\n",
            "MSE: 8.721024069276591\n",
            "RMSE: 8.721024069276591\n",
            "R2 Score: 0.7760386934611212\n"
          ]
        }
      ],
      "source": [
        "from sklearn.metrics import mean_absolute_error, mean_squared_error, r2_score\n",
        "\n",
        "print(\"Regression Metrics:\")\n",
        "print(\"MAE:\", mean_absolute_error(y_test, y_pred))\n",
        "print(\"MSE:\", mean_squared_error(y_test, y_pred))\n",
        "print(\"RMSE:\", mean_squared_error(y_test, y_pred))\n",
        "print(\"R2 Score:\", r2_score(y_test, y_pred))"
      ]
    },
    {
      "cell_type": "code",
      "execution_count": 14,
      "metadata": {
        "colab": {
          "base_uri": "https://localhost:8080/"
        },
        "id": "QhpRmY9lnw9G",
        "outputId": "ba9ed92e-b977-4240-c6fd-43a244d746a1"
      },
      "outputs": [
        {
          "name": "stdout",
          "output_type": "stream",
          "text": [
            "Classification Metrics:\n",
            "Accuracy: 0.8695652173913043\n",
            "Confusion Matrix:\n",
            " [[ 1  1  0  0]\n",
            " [ 0 17  0  1]\n",
            " [ 0  0  0  1]\n",
            " [ 0  0  0  2]]\n",
            "Classification Report:\n",
            "               precision    recall  f1-score   support\n",
            "\n",
            "           0       1.00      0.50      0.67         2\n",
            "           1       0.94      0.94      0.94        18\n",
            "           2       0.00      0.00      0.00         1\n",
            "           3       0.50      1.00      0.67         2\n",
            "\n",
            "    accuracy                           0.87        23\n",
            "   macro avg       0.61      0.61      0.57        23\n",
            "weighted avg       0.87      0.87      0.86        23\n",
            "\n"
          ]
        },
        {
          "name": "stderr",
          "output_type": "stream",
          "text": [
            "c:\\Users\\Satvik singh\\AppData\\Local\\Programs\\Python\\Python312\\Lib\\site-packages\\sklearn\\metrics\\_classification.py:1706: UndefinedMetricWarning: Precision is ill-defined and being set to 0.0 in labels with no predicted samples. Use `zero_division` parameter to control this behavior.\n",
            "  _warn_prf(average, modifier, f\"{metric.capitalize()} is\", result.shape[0])\n",
            "c:\\Users\\Satvik singh\\AppData\\Local\\Programs\\Python\\Python312\\Lib\\site-packages\\sklearn\\metrics\\_classification.py:1706: UndefinedMetricWarning: Precision is ill-defined and being set to 0.0 in labels with no predicted samples. Use `zero_division` parameter to control this behavior.\n",
            "  _warn_prf(average, modifier, f\"{metric.capitalize()} is\", result.shape[0])\n",
            "c:\\Users\\Satvik singh\\AppData\\Local\\Programs\\Python\\Python312\\Lib\\site-packages\\sklearn\\metrics\\_classification.py:1706: UndefinedMetricWarning: Precision is ill-defined and being set to 0.0 in labels with no predicted samples. Use `zero_division` parameter to control this behavior.\n",
            "  _warn_prf(average, modifier, f\"{metric.capitalize()} is\", result.shape[0])\n"
          ]
        }
      ],
      "source": [
        "from sklearn.metrics import accuracy_score, classification_report, confusion_matrix\n",
        "\n",
        "print(\"Classification Metrics:\")\n",
        "print(\"Accuracy:\", accuracy_score(y_test2, y_pred2))\n",
        "print(\"Confusion Matrix:\\n\", confusion_matrix(y_test2, y_pred2))\n",
        "print(\"Classification Report:\\n\", classification_report(y_test2, y_pred2))\n"
      ]
    },
    {
      "cell_type": "code",
      "execution_count": 15,
      "metadata": {
        "colab": {
          "base_uri": "https://localhost:8080/",
          "height": 452
        },
        "id": "OeVEaZKqnzAX",
        "outputId": "0dde8b31-c0da-4854-f4fb-da3dc6f1163d"
      },
      "outputs": [
        {
          "data": {
            "image/png": "[encoded data removed]",
            "text/plain": [
              "<Figure size 640x480 with 1 Axes>"
            ]
          },
          "metadata": {},
          "output_type": "display_data"
        }
      ],
      "source": [
        "#Temperature prediction and visualization\n",
        "import matplotlib.pyplot as plt\n",
        "\n",
        "plt.plot(y_test.values[:50], label='Actual')\n",
        "plt.plot(y_pred[:50], label='Predicted')\n",
        "plt.legend()\n",
        "plt.title(\"Temperature Prediction\")\n",
        "plt.show()"
      ]
    },
    {
      "cell_type": "code",
      "execution_count": 16,
      "metadata": {},
      "outputs": [
        {
          "data": {
            "text/plain": [
              "0.8695652173913043"
            ]
          },
          "execution_count": 16,
          "metadata": {},
          "output_type": "execute_result"
        }
      ],
      "source": [
        "from sklearn.metrics import accuracy_score\n",
        "accuracy_score(y_test2, y_pred2)"
      ]
    },
    {
      "cell_type": "code",
      "execution_count": 17,
      "metadata": {
        "colab": {
          "base_uri": "https://localhost:8080/",
          "height": 452
        },
        "id": "_SRzPkn2oEK7",
        "outputId": "9fcb11b9-7216-4174-bf58-34f836b35e9f"
      },
      "outputs": [
        {
          "data": {
            "image/png": "[encoded data removed]",
            "text/plain": [
              "<Figure size 640x480 with 2 Axes>"
            ]
          },
          "metadata": {},
          "output_type": "display_data"
        }
      ],
      "source": [
        "#Weather condition prediction confusion matrix\n",
        "import seaborn as sns\n",
        "\n",
        "cm = confusion_matrix(y_test2, y_pred2)\n",
        "sns.heatmap(cm, annot=True)\n",
        "plt.title(\"Weather Condition Prediction Confusion Matrix\")\n",
        "plt.show()"
      ]
    },
    {
      "cell_type": "code",
      "execution_count": 17,
      "metadata": {
        "colab": {
          "base_uri": "https://localhost:8080/"
        },
        "id": "rBkbhZeToVfP",
        "outputId": "6b63e682-4f1c-4639-b323-0560b63d9bf4"
      },
      "outputs": [
        {
          "name": "stdout",
          "output_type": "stream",
          "text": [
            "Predicted Temperature: [23.1827803]\n",
            "Predicted Weather Condition: ['Moderate']\n"
          ]
        },
        {
          "name": "stderr",
          "output_type": "stream",
          "text": [
            "c:\\Users\\Satvik singh\\AppData\\Local\\Programs\\Python\\Python312\\Lib\\site-packages\\sklearn\\utils\\validation.py:2749: UserWarning: X does not have valid feature names, but RandomForestRegressor was fitted with feature names\n",
            "  warnings.warn(\n",
            "c:\\Users\\Satvik singh\\AppData\\Local\\Programs\\Python\\Python312\\Lib\\site-packages\\sklearn\\utils\\validation.py:2749: UserWarning: X does not have valid feature names, but RandomForestClassifier was fitted with feature names\n",
            "  warnings.warn(\n"
          ]
        }
      ],
      "source": [
        "new_data = [[50 , 30 , 1012]]  # example values for humidity, wind, pressure\n",
        "\n",
        "# Predict temperature\n",
        "temp_pred = reg_model.predict(new_data)\n",
        "print(\"Predicted Temperature:\", temp_pred)\n",
        "\n",
        "# Predict weather condition\n",
        "weather_pred = clf_model.predict(new_data)\n",
        "print(\"Predicted Weather Condition:\", le.inverse_transform(weather_pred))"
      ]
    }
  ],
  "metadata": {
    "colab": {
      "provenance": []
    },
    "kernelspec": {
      "display_name": "Python 3",
      "name": "python3"
    },
    "language_info": {
      "codemirror_mode": {
        "name": "ipython",
        "version": 3
      },
      "file_extension": ".py",
      "mimetype": "text/x-python",
      "name": "python",
      "nbconvert_exporter": "python",
      "pygments_lexer": "ipython3",
      "version": "3.12.6"
    }
  },
  "nbformat": 4,
  "nbformat_minor": 0
}
